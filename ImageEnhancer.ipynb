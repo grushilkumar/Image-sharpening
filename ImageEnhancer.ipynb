{
 "cells": [
  {
   "cell_type": "code",
   "execution_count": 11,
   "id": "c2417be6-e9d7-45b0-b198-efee87eb200f",
   "metadata": {},
   "outputs": [],
   "source": [
    "import os\n",
    "import cv2\n",
    "import numpy as np"
   ]
  },
  {
   "cell_type": "code",
   "execution_count": 12,
   "id": "3bfa8569-3914-4336-9dd9-b50465b5008d",
   "metadata": {},
   "outputs": [
    {
     "name": "stdout",
     "output_type": "stream",
     "text": [
      "Enhancement complete!\n"
     ]
    }
   ],
   "source": [
    "# Define the folder containing the images\n",
    "folder_path = \"C:\\\\Users\\\\Rushi\\\\Pictures\\\\theDSTheory\"\n",
    "new_folder_name = \"EnhancedImages\"\n",
    "\n",
    "# Create the new folder if it doesn't exist\n",
    "new_folder_path = os.path.join(folder_path, new_folder_name)\n",
    "os.makedirs(new_folder_path, exist_ok=True)\n",
    "\n",
    "# Define the sharpening parameters\n",
    "sharpening_strength = 1.5  # Adjust as needed\n",
    "\n",
    "# Iterate over each file in the folder\n",
    "for filename in os.listdir(folder_path):\n",
    "    if filename.endswith(\".jpeg\") or filename.endswith(\".png\"):  # Adjust file extensions as needed\n",
    "        # Load the image\n",
    "        image_path = os.path.join(folder_path, filename)\n",
    "        image = cv2.imread(image_path)\n",
    "\n",
    "        # Convert image to float32\n",
    "        image_float = np.float32(image)\n",
    "\n",
    "        # Apply Gaussian blur to the image\n",
    "        blurred = cv2.GaussianBlur(image_float, (0, 0), 2)\n",
    "\n",
    "        # Calculate the difference between the original and blurred images\n",
    "        sharpened = cv2.addWeighted(image_float, 1.0 + sharpening_strength, blurred, -sharpening_strength, 0)\n",
    "\n",
    "        # Convert back to uint8\n",
    "        sharpened = np.clip(sharpened, 0, 255).astype(np.uint8)\n",
    "\n",
    "        # Save the enhanced image in the new folder\n",
    "        enhanced_image_path = os.path.join(new_folder_path, f\"enhanced_{filename}\")\n",
    "        cv2.imwrite(enhanced_image_path, sharpened)\n",
    "\n",
    "print(\"Enhancement complete!\")"
   ]
  }
 ],
 "metadata": {
  "kernelspec": {
   "display_name": "Python 3 (ipykernel)",
   "language": "python",
   "name": "python3"
  },
  "language_info": {
   "codemirror_mode": {
    "name": "ipython",
    "version": 3
   },
   "file_extension": ".py",
   "mimetype": "text/x-python",
   "name": "python",
   "nbconvert_exporter": "python",
   "pygments_lexer": "ipython3",
   "version": "3.11.5"
  }
 },
 "nbformat": 4,
 "nbformat_minor": 5
}
